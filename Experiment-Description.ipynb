{
 "cells": [
  {
   "cell_type": "markdown",
   "source": [
    "# Detection of a Quantum Biscuit with Qiskit\n",
    "\n",
    "# 1. Initial Experiment\n",
    "In the experiment we have a specific area, in which there could be a quantum biscuit (marked by a red rectangle). If a single photon touches the biscuit, the biscuit is ruined.\n",
    "We want to find out, whether we have a biscuit in this specific area or not without ruining a potential biscuit.\n",
    "\n",
    "We start by sending a photon (yellow arrow) as a macroscopic object to the first beamsplitter (blue line).\n",
    "In this experiment there are two mirrors (the black lines), another beamsplitter (the second blue line) and two detectors D1 and D2 (the silver trapezes).\n",
    "\n",
    "\n",
    "<img src=\"new_Images/initial_2022-04-18 104718.png\" width=400/>\n",
    "\n",
    "## Biscuit tester without biscuit\n",
    "\n",
    "To find out whether we have a biscuit in the\n",
    "specified area, we first look at the case, where\n",
    "there is no biscuit. In this case we send a photon\n",
    "with a beamsplitter in a superposition, where\n",
    "the photon takes the way up − right and right −\n",
    "up at the same time.\n",
    "After being reflected by mirrors, the two super\u0002positions of the photon collapse into a macro\u0002scopic photon object, which goes to the right\n",
    "side. Now the photon is detected by D1. [9]\n",
    "The yellow arrow indicates a photon in case it\n",
    "is an object, in case of a wave the arrow is light\u0002blue.\n",
    "\n",
    "\n",
    "<img src=\"new_Images/No-bomb_2022-04-18.png\" width=400/>\n",
    "\n",
    "\n"
   ],
   "metadata": {
    "collapsed": false,
    "pycharm": {
     "name": "#%% md\n"
    }
   }
  },
  {
   "cell_type": "markdown",
   "source": [
    "## Biscuit tester with biscuit\n",
    "\n",
    "Now we do the exact same thing, but we put a biscuit in the specified area (the biscuit\n",
    "is represented by the blue dot). The photon is now in a superposition, until it reaches\n",
    "the biscuit. When the wave photon reaches the biscuit, we have a measurement. As\n",
    "a result of the measurement, the superposition of the photon collapses. The photon\n",
    "either takes the up − right or right − up way. Lets first look at the case, where the\n",
    "photon decides to take the way, in which the biscuit is (up − right). The biscuit is\n",
    "ruined and the photon reaches neither the detector D1 or D2.\n",
    "\n",
    "<img src=\"new_Images/bomb_before_reached_2022-04-18.png\" width=400 height=400 />\n",
    "<img src=\"new_Images/a_bomb_detected_2022-04-18 104423.png\" width=400 height=400 />\n",
    "\n",
    "If the photon takes the other way, we have it as a particle between the first and second\n",
    "beamsplitter. When the photon reaches the second beamsplitter as a particle, it is again\n",
    "brought in a superposition. In this case, we can either measure it in D1 or D2.\n",
    "\n",
    "<img src=\"new_Images/a_bomb_but_no_detection_d2_d1_2022-04-18.png\" width=400 height=400 />\n",
    "<img src=\"new_Images/a_bomb_but_no_detection_d1_2022-04-18.png\" width=400 height=400 />\n",
    "<img src=\"new_Images/a_bomb_but_no_detection_d2_2022-04-18.png\" width=400 height=400 />"
   ],
   "metadata": {
    "collapsed": false,
    "pycharm": {
     "name": "#%% md\n"
    }
   }
  },
  {
   "cell_type": "markdown",
   "source": [
    "## Result of the initial experiment\n",
    "\n",
    "According to [9] there are three possible outcomes of this measurement:\n",
    "1. no detector clicks, the biscuit is ruined\n",
    "2. detector D1 clicks, there is a biscuit which is not yet ruined or there is no biscuit\n",
    "3. detector D2 clicks, there is a biscuit, which is not yet ruined."
   ],
   "metadata": {
    "collapsed": false,
    "pycharm": {
     "name": "#%% md\n"
    }
   }
  },
  {
   "cell_type": "markdown",
   "source": [
    "# Bomb tester with bomb with hadamad gate\n",
    "Now, we have simulated this in qiskit in reference to [10]. q (later q0) represents the\n",
    "photon. We initially use Hadamard gates as beamsplitter. This makes sense, since a\n",
    "beamsplitter makes a qubit go from the states 0 or 1 to a superposition of 1 and 0 and\n",
    "in the other direction."
   ],
   "metadata": {
    "collapsed": false
   }
  },
  {
   "cell_type": "code",
   "execution_count": 235,
   "outputs": [
    {
     "data": {
      "text/plain": "<Figure size 417.879x204.68 with 1 Axes>",
      "image/png": "[encoded data removed]"
     },
     "execution_count": 235,
     "metadata": {},
     "output_type": "execute_result"
    }
   ],
   "source": [
    "# Code for the basic bomb tester circuit\n",
    "\n",
    "from qiskit import QuantumCircuit\n",
    "from qiskit.providers.aer import QasmSimulator\n",
    "from qiskit.visualization import plot_histogram\n",
    "\n",
    "bomb_tester_without_bomb = QuantumCircuit(2)\n",
    "bomb_tester_without_bomb.h(0)\n",
    "\n",
    "bomb_tester_without_bomb.h(0)\n",
    "# bomb_tester_without_bomb.z(0)\n",
    "bomb_tester_without_bomb.measure_all()\n",
    "bomb_tester_without_bomb.draw(output='mpl')\n",
    "# Running the basic bomb tester circuit"
   ],
   "metadata": {
    "collapsed": false,
    "pycharm": {
     "name": "#%%\n"
    }
   }
  },
  {
   "cell_type": "code",
   "execution_count": 236,
   "outputs": [
    {
     "data": {
      "text/plain": "<Figure size 504x360 with 1 Axes>",
      "image/png": "[encoded data removed]"
     },
     "execution_count": 236,
     "metadata": {},
     "output_type": "execute_result"
    }
   ],
   "source": [
    "simulator = QasmSimulator()\n",
    "\n",
    "job = simulator.run(bomb_tester_without_bomb, shots=1000)\n",
    "result = job.result()\n",
    "counts = result.get_counts(bomb_tester_without_bomb)\n",
    "\n",
    "\n",
    "plot_histogram(counts)"
   ],
   "metadata": {
    "collapsed": false,
    "pycharm": {
     "name": "#%%\n"
    }
   }
  },
  {
   "cell_type": "markdown",
   "source": [
    "We get as result 100% probability for the state $$ |00\\rangle $$\n",
    "This is logical, because we have the inputs $$ |00\\rangle $$ of qo and q1 combined.\n",
    "\n",
    "$$ (H ⨂ I ) (H ⨂ I ) |00\\rangle=\\frac 1 {\\sqrt{2}} \\begin{pmatrix} 1 & 0 & 1 & 0 \\\\ 0 & 1 & 0 & 1 \\\\ 1 & 0 & -1 & 0 \\\\ 0 & 1 & 0 & -1\\end{pmatrix}  \\frac 1 {\\sqrt{2}} \\begin{pmatrix} 1 & 0 & 1 & 0 \\\\ 0 & 1 & 0 & 1 \\\\ 1 & 0 & -1 & 0 \\\\ 0 & 1 & 0 & -1\\end{pmatrix}  \\begin{pmatrix} 1 \\\\ 0 \\\\ 0 \\\\ 0\\end{pmatrix} = \\frac 1 {2} \\begin{pmatrix} 1 & 0 & 1 & 0 \\\\ 0 & 1 & 0 & 1 \\\\ 1 & 0 & -1 & 0 \\\\ 0 & 1 & 0 & -1\\end{pmatrix} \\begin{pmatrix} 1 \\\\ 0 \\\\ 1 \\\\ 0\\end{pmatrix} = \\frac 1 {2} \\begin{pmatrix} 2 \\\\ 0 \\\\ 0 \\\\ 0\\end{pmatrix} = \\begin{pmatrix} 1 \\\\ 0 \\\\ 0 \\\\ 0\\end{pmatrix} = |00\\rangle $$"
   ],
   "metadata": {
    "collapsed": false
   }
  },
  {
   "cell_type": "markdown",
   "source": [
    "As described earlier in the experiment we only get zero as a result.\n",
    "Now we add a measurement in the experiment to represent the biscuit. We now mea-\n",
    "sure both 1 and 0 with the same possibility. But don’t yet know, if the biscuit is ruined."
   ],
   "metadata": {
    "collapsed": false,
    "pycharm": {
     "name": "#%% md\n"
    }
   }
  },
  {
   "cell_type": "code",
   "execution_count": 237,
   "outputs": [
    {
     "data": {
      "text/plain": "<Figure size 478.079x204.68 with 1 Axes>",
      "image/png": "[encoded data removed]"
     },
     "execution_count": 237,
     "metadata": {},
     "output_type": "execute_result"
    }
   ],
   "source": [
    "# Code for the basic bomb tester circuit\n",
    "\n",
    "from qiskit import QuantumCircuit\n",
    "from qiskit.providers.aer import QasmSimulator\n",
    "from qiskit.visualization import plot_histogram\n",
    "\n",
    "bomb_tester_with_bomb = QuantumCircuit(2)\n",
    "bomb_tester_with_bomb.h(0)\n",
    "bomb_tester_with_bomb.cx(0, 1)\n",
    "bomb_tester_with_bomb.h(0)\n",
    "# bomb_tester_with_bomb.z(0)\n",
    "bomb_tester_with_bomb.measure_all()\n",
    "bomb_tester_with_bomb.draw(output='mpl')"
   ],
   "metadata": {
    "collapsed": false,
    "pycharm": {
     "name": "#%%\n"
    }
   }
  },
  {
   "cell_type": "code",
   "execution_count": 238,
   "outputs": [
    {
     "data": {
      "text/plain": "<Figure size 504x360 with 1 Axes>",
      "image/png": "[encoded data removed]"
     },
     "execution_count": 238,
     "metadata": {},
     "output_type": "execute_result"
    }
   ],
   "source": [
    "# Running the basic bomb tester circuit\n",
    "simulator = QasmSimulator()\n",
    "\n",
    "job = simulator.run(bomb_tester_with_bomb, shots=1000)\n",
    "result = job.result()\n",
    "counts = result.get_counts(bomb_tester_with_bomb)\n",
    "\n",
    "\n",
    "plot_histogram(counts)"
   ],
   "metadata": {
    "collapsed": false,
    "pycharm": {
     "name": "#%%\n"
    }
   }
  },
  {
   "cell_type": "markdown",
   "source": [
    "The following calcualtion shows, why we have the result.\n",
    "\n",
    "$$ (H ⨂ I ) CX (H ⨂ I ) |00\\rangle = (H ⨂ I ) CX  \\frac 1 {\\sqrt{2}} \\begin{pmatrix} 1 & 0 & 1 & 0 \\\\ 0 & 1 & 0 & 1 \\\\ 1 & 0 & -1 & 0 \\\\ 0 & 1 & 0 & -1\\end{pmatrix}  \\begin{pmatrix} 1 \\\\ 0 \\\\ 0 \\\\ 0\\end{pmatrix} = $$\n",
    "\n",
    "$$(H ⨂ I ) CX \\frac 1 {\\sqrt{2}} \\begin{pmatrix} 1 & 0 & 1 & 0 \\\\ 0 & 1 & 0 & 1 \\\\ 1 & 0 & -1 & 0 \\\\ 0 & 1 & 0 & -1\\end{pmatrix} \\begin{pmatrix} 1 \\\\ 0 \\\\ 0 \\\\ 0\\end{pmatrix}$$\n",
    "\n",
    "$$ = (H ⨂ I ) CX \\frac 1 {\\sqrt{2}} \\begin{pmatrix} 1 \\\\ 0 \\\\ 1 \\\\ 0\\end{pmatrix} = (H ⨂ I ) \\begin{pmatrix} 1 & 0 & 0 & 0 \\\\ 0 & 1 & 0 & 0 \\\\ 0 & 0 & 0 & 1 \\\\ 0 & 0 & 1 & 0\\end{pmatrix} \\frac 1 {\\sqrt{2}} \\begin{pmatrix} 1 \\\\ 0 \\\\ 1 \\\\ 0\\end{pmatrix}  = (H ⨂ I ) \\frac 1 {\\sqrt{2}} \\begin{pmatrix} 1 \\\\ 0 \\\\ 0 \\\\ 1\\end{pmatrix} $$\n",
    "\n",
    "$$ = \\frac 1 {\\sqrt{2}} \\begin{pmatrix} 1 & 0 & 1 & 0 \\\\ 0 & 1 & 0 & 1 \\\\ 1 & 0 & -1 & 0 \\\\ 0 & 1 & 0 & -1\\end{pmatrix} \\frac 1 {\\sqrt{2}} \\begin{pmatrix} 1 \\\\ 0 \\\\ 0 \\\\ 1\\end{pmatrix}  = \\frac 1 {2} \\begin{pmatrix} 1 \\\\ 1 \\\\ 1 \\\\ -1\\end{pmatrix} $$"
   ],
   "metadata": {
    "collapsed": false
   }
  },
  {
   "cell_type": "markdown",
   "source": [
    "To imitate, whether the biscuit is ruined or not, we add another qubit and a CNOT gate.\n",
    "q0 is represented by the right output number\n",
    "q1 is represented by the left output number\n",
    "In the yellow marked area are the probabilities, that\n",
    "the biscuit is ruined. As a result in\n",
    "1. 50% of the cases the biscuit is ruined\n",
    "2. 25% of the cases the biscuit is found without it\n",
    "being ruined\n",
    "3. 25% of the cases there is no information whether\n",
    "the biscuit is found or not\n",
    "The goal is now to lower the probability of the biscuit\n",
    "being ruined. Therefore we want to turn the photon with the first beamsplitter in a\n",
    "superposition, where it is more likely for the photon to take the way without a biscuit,\n",
    "if exists a biscuit"
   ],
   "metadata": {
    "collapsed": false,
    "pycharm": {
     "name": "#%% md\n"
    }
   }
  },
  {
   "cell_type": "markdown",
   "source": [],
   "metadata": {
    "collapsed": false,
    "pycharm": {
     "name": "#%% md\n"
    }
   }
  },
  {
   "cell_type": "code",
   "source": [
    "# In this case bring a photon with a beamsplitter (blue object) in a superposition, where the photon takes the way up-right and right-up at the next time.\n",
    "# After being reflected by mirrors (black objects), the both superpositions of the photon are collapsed into a photon object, which goes up.\n",
    "#\n",
    "# The color yellow is used for a photon, in case it is a object, light-blue if it is a wave.\n",
    "#\n",
    "# Now, we have simulated this in qiskit:\n",
    "#\n",
    "# Here q0 represents the photon.\n"
   ],
   "metadata": {
    "collapsed": false,
    "pycharm": {
     "name": "#%%\n"
    }
   },
   "execution_count": 239,
   "outputs": []
  },
  {
   "cell_type": "code",
   "source": [
    "# First of all, we can say, that we have a big difference, in case we have a biscuit or not:\n",
    "#\n",
    "# If we have a biscuit, we have the following result:\n",
    "# $$ \\frac 1 {2} \\begin{pmatrix} 1 \\\\ 1 \\\\ 1 \\\\ -1\\end{pmatrix} $$\n",
    "#\n",
    "# If we don't have a biscuit, we have the following result:\n",
    "# $$  \\begin{pmatrix} 1 \\\\ 0 \\\\ 0 \\\\ 0\\end{pmatrix} $$\n",
    "#\n",
    "#\n",
    "# We can now see a different result, if we have a biscuit or not.\n",
    "#\n",
    "# The problem now is, that in 50% of the cases if we have a biscuit, we destroy it.\n"
   ],
   "metadata": {
    "collapsed": false,
    "pycharm": {
     "name": "#%%\n"
    }
   },
   "execution_count": 240,
   "outputs": []
  },
  {
   "cell_type": "code",
   "execution_count": 241,
   "id": "7681def3-0ba9-4b23-8ec4-e02658bd224c",
   "metadata": {
    "slideshow": {
     "slide_type": "slide"
    }
   },
   "outputs": [],
   "source": [
    "#!pip3 install qiskit\n",
    "#!pip3 install pylatexenc\n",
    "#!pip3 install matplotlib\n",
    "#!pip3 install RISE"
   ]
  },
  {
   "cell_type": "code",
   "source": [
    "# The experiment proposes in the following if no bomb exists\n",
    "#\n",
    "# We would have one photon outcome which not in a superposition, so it is either $$ |0\\rangle $$ or $$ |1\\rangle $$.\n",
    "#\n",
    "# But if there is a bomb  we have the CNOT gate. This represents a measurement process in between the Hadamad gates.\n",
    "#\n",
    "# So the photon is either $$ |0\\rangle $$ or $$ |1\\rangle $$ before between the hadamad gates. So we have as a final\n",
    "# We represent the photon as q0.\n"
   ],
   "metadata": {
    "collapsed": false,
    "pycharm": {
     "name": "#%%\n"
    }
   },
   "execution_count": 242,
   "outputs": []
  },
  {
   "cell_type": "markdown",
   "source": [
    "\n"
   ],
   "metadata": {
    "collapsed": false,
    "pycharm": {
     "name": "#%% md\n"
    }
   }
  },
  {
   "cell_type": "code",
   "source": [
    "# Bomb tester without bomb"
   ],
   "metadata": {
    "collapsed": false,
    "pycharm": {
     "name": "#%%\n"
    }
   },
   "execution_count": 243,
   "outputs": []
  },
  {
   "cell_type": "code",
   "execution_count": 244,
   "outputs": [],
   "source": [
    "# Code for the basic bomb tester circuit\n",
    "\n",
    "# from qiskit import QuantumCircuit\n",
    "# from qiskit.providers.aer import QasmSimulator\n",
    "# from qiskit.visualization import plot_histogram\n",
    "#\n",
    "# bomb_tester_without_bomb = QuantumCircuit(2)\n",
    "# bomb_tester_without_bomb.h(0)\n",
    "#\n",
    "# bomb_tester_without_bomb.h(0)\n",
    "# # bomb_tester_without_bomb.z(0)\n",
    "# bomb_tester_without_bomb.measure_all()\n",
    "# bomb_tester_without_bomb.draw(output='mpl')\n",
    "# # Running the basic bomb tester circuit\n",
    "#\n",
    "#\n",
    "#\n",
    "# simulator = QasmSimulator()\n",
    "#\n",
    "# job = simulator.run(bomb_tester_without_bomb, shots=1000)\n",
    "# result = job.result()\n",
    "# counts = result.get_counts(bomb_tester_without_bomb)\n",
    "#\n",
    "#\n",
    "# plot_histogram(counts)"
   ],
   "metadata": {
    "collapsed": false,
    "pycharm": {
     "name": "#%%\n"
    }
   }
  },
  {
   "cell_type": "code",
   "source": [
    "# Critical analysis of initial experiment:\n",
    "#\n",
    "# In an initial implementation of the quantum bomb tester by Maria Violaris, she uses two Qbit. The qubit q0 represents the photon, which is brought to a superposition via a Hadamad Gate.\n",
    "# The qubit q1 represents the bomb.\n",
    "# After that,  she uses a cnot gate, to flip q1 to 1 which means the bomb has exploded.\n",
    "# The state of q0 represents, whether the algorithm thinks, that there does a bomb exist (1) or not (0).\n",
    "#\n",
    "# If there would be no quantum bomb, the photon follow the following operation:\n",
    "#\n",
    "# $$ (H ⨂ I ) (H ⨂ I ) |00\\rangle=\\frac 1 {\\sqrt{2}} \\begin{pmatrix} 1 & 0 & 1 & 0 \\\\ 0 & 1 & 0 & 1 \\\\ 1 & 0 & -1 & 0 \\\\ 0 & 1 & 0 & -1\\end{pmatrix}  \\frac 1 {\\sqrt{2}} \\begin{pmatrix} 1 & 0 & 1 & 0 \\\\ 0 & 1 & 0 & 1 \\\\ 1 & 0 & -1 & 0 \\\\ 0 & 1 & 0 & -1\\end{pmatrix}  \\begin{pmatrix} 1 \\\\ 0 \\\\ 0 \\\\ 0\\end{pmatrix} = \\frac 1 {2} \\begin{pmatrix} 1 & 0 & 1 & 0 \\\\ 0 & 1 & 0 & 1 \\\\ 1 & 0 & -1 & 0 \\\\ 0 & 1 & 0 & -1\\end{pmatrix} \\begin{pmatrix} 1 \\\\ 0 \\\\ 1 \\\\ 0\\end{pmatrix} = \\frac 1 {2} \\begin{pmatrix} 2 \\\\ 0 \\\\ 0 \\\\ 0\\end{pmatrix} = \\begin{pmatrix} 1 \\\\ 0 \\\\ 0 \\\\ 0\\end{pmatrix} = |00\\rangle $$\n",
    "#\n",
    "# Now we have a bomb which is represented by a CNOT Gate.\n",
    "#\n",
    "# $$ (H ⨂ I ) CX (H ⨂ I ) |00\\rangle = (H ⨂ I ) CX  \\frac 1 {\\sqrt{2}} \\begin{pmatrix} 1 & 0 & 1 & 0 \\\\ 0 & 1 & 0 & 1 \\\\ 1 & 0 & -1 & 0 \\\\ 0 & 1 & 0 & -1\\end{pmatrix}  \\begin{pmatrix} 1 \\\\ 0 \\\\ 0 \\\\ 0\\end{pmatrix} = $$\n",
    "#\n",
    "# $$(H ⨂ I ) CX \\frac 1 {\\sqrt{2}} \\begin{pmatrix} 1 & 0 & 1 & 0 \\\\ 0 & 1 & 0 & 1 \\\\ 1 & 0 & -1 & 0 \\\\ 0 & 1 & 0 & -1\\end{pmatrix} \\begin{pmatrix} 1 \\\\ 0 \\\\ 0 \\\\ 0\\end{pmatrix}$$\n",
    "#\n",
    "# $$ = (H ⨂ I ) CX \\frac 1 {\\sqrt{2}} \\begin{pmatrix} 1 \\\\ 0 \\\\ 1 \\\\ 0\\end{pmatrix} = (H ⨂ I ) \\begin{pmatrix} 1 & 0 & 0 & 0 \\\\ 0 & 1 & 0 & 0 \\\\ 0 & 0 & 0 & 1 \\\\ 0 & 0 & 1 & 0\\end{pmatrix} \\frac 1 {\\sqrt{2}} \\begin{pmatrix} 1 \\\\ 0 \\\\ 1 \\\\ 0\\end{pmatrix}  = (H ⨂ I ) \\frac 1 {\\sqrt{2}} \\begin{pmatrix} 1 \\\\ 0 \\\\ 0 \\\\ 1\\end{pmatrix} $$\n",
    "#\n",
    "# $$ = \\frac 1 {\\sqrt{2}} \\begin{pmatrix} 1 & 0 & 1 & 0 \\\\ 0 & 1 & 0 & 1 \\\\ 1 & 0 & -1 & 0 \\\\ 0 & 1 & 0 & -1\\end{pmatrix} \\frac 1 {\\sqrt{2}} \\begin{pmatrix} 1 \\\\ 0 \\\\ 0 \\\\ 1\\end{pmatrix}  = \\frac 1 {2} \\begin{pmatrix} 1 \\\\ 1 \\\\ 1 \\\\ -1\\end{pmatrix} $$\n",
    "#\n",
    "# The\n",
    "#\n",
    "#\n",
    "#\n",
    "#\n",
    "#\n",
    "#\n",
    "#\n",
    "#\n",
    "# COMMENT\n",
    "#\n",
    "# $$a = H|0\\rangle=\\frac 1 {\\sqrt{2}} \\begin{pmatrix} 1 & 1 \\\\ 1 & -1 \\end{pmatrix} \\begin{pmatrix} 1 \\\\ 0 \\end{pmatrix} = \\frac 1 {\\sqrt{2}} \\begin{pmatrix} 1 \\\\ 1 \\end{pmatrix} $$\n",
    "#\n",
    "# Now there are two possibilities,\n",
    "#\n",
    "#\n"
   ],
   "metadata": {
    "collapsed": false,
    "pycharm": {
     "name": "#%%\n"
    }
   },
   "execution_count": 245,
   "outputs": []
  },
  {
   "cell_type": "code",
   "source": [
    "# Critical analysis of initial experiment:\n",
    "#\n",
    "# In an initial implementation of the quantum bomb tester by Maria Violaris, she uses two Qbit. The qubit q0 represents the photon, which is brought to a superposition via a Hadamad Gate.\n",
    "# The qubit q1 represents the bomb.\n",
    "# After that,  she uses a cnot gate, to flip q1 to 1 which means the bomb has exploded.\n",
    "# The state of q0 represents, whether the algorithm thinks, that there does a bomb exist (1) or not (0).\n",
    "#\n",
    "# If there would be no quantum bomb, the photon follow the following operation:\n",
    "#\n",
    "# $$ (H ⨂ I ) (H ⨂ I ) |00\\rangle=\\frac 1 {\\sqrt{2}} \\begin{pmatrix} 1 & 0 & 1 & 0 \\\\ 0 & 1 & 0 & 1 \\\\ 1 & 0 & -1 & 0 \\\\ 0 & 1 & 0 & -1\\end{pmatrix}  \\frac 1 {\\sqrt{2}} \\begin{pmatrix} 1 & 0 & 1 & 0 \\\\ 0 & 1 & 0 & 1 \\\\ 1 & 0 & -1 & 0 \\\\ 0 & 1 & 0 & -1\\end{pmatrix}  \\begin{pmatrix} 1 \\\\ 0 \\\\ 0 \\\\ 0\\end{pmatrix} = \\frac 1 {2} \\begin{pmatrix} 1 & 0 & 1 & 0 \\\\ 0 & 1 & 0 & 1 \\\\ 1 & 0 & -1 & 0 \\\\ 0 & 1 & 0 & -1\\end{pmatrix} \\begin{pmatrix} 1 \\\\ 0 \\\\ 1 \\\\ 0\\end{pmatrix} = \\frac 1 {2} \\begin{pmatrix} 2 \\\\ 0 \\\\ 0 \\\\ 0\\end{pmatrix} = \\begin{pmatrix} 1 \\\\ 0 \\\\ 0 \\\\ 0\\end{pmatrix} = |00\\rangle$$\n",
    "#\n",
    "# Now we have a bomb which is represented by a CNOT Gate.\n",
    "#\n",
    "# $$ (H ⨂ I ) CX (H ⨂ I ) |00\\rangle = (H ⨂ I ) CX  \\frac 1 {\\sqrt{2}} \\begin{pmatrix} 1 & 0 & 1 & 0 \\\\ 0 & 1 & 0 & 1 \\\\ 1 & 0 & -1 & 0 \\\\ 0 & 1 & 0 & -1\\end{pmatrix}  \\begin{pmatrix} 1 \\\\ 0 \\\\ 0 \\\\ 0\\end{pmatrix} = $$\n",
    "#\n",
    "# $$(H ⨂ I ) CX \\frac 1 {\\sqrt{2}} \\begin{pmatrix} 1 & 0 & 1 & 0 \\\\ 0 & 1 & 0 & 1 \\\\ 1 & 0 & -1 & 0 \\\\ 0 & 1 & 0 & -1\\end{pmatrix} \\begin{pmatrix} 1 \\\\ 0 \\\\ 0 \\\\ 0\\end{pmatrix}$$\n",
    "#\n",
    "# $$ = (H ⨂ I ) CX \\frac 1 {\\sqrt{2}} \\begin{pmatrix} 1 \\\\ 0 \\\\ 1 \\\\ 0\\end{pmatrix} = (H ⨂ I ) \\begin{pmatrix} 1 & 0 & 0 & 0 \\\\ 0 & 1 & 0 & 0 \\\\ 0 & 0 & 0 & 1 \\\\ 0 & 0 & 1 & 0\\end{pmatrix} \\frac 1 {\\sqrt{2}} \\begin{pmatrix} 1 \\\\ 0 \\\\ 1 \\\\ 0\\end{pmatrix}  = (H ⨂ I ) \\frac 1 {\\sqrt{2}} \\begin{pmatrix} 1 \\\\ 0 \\\\ 0 \\\\ 1\\end{pmatrix} $$\n",
    "#\n",
    "# $$ = \\frac 1 {\\sqrt{2}} \\begin{pmatrix} 1 & 0 & 1 & 0 \\\\ 0 & 1 & 0 & 1 \\\\ 1 & 0 & -1 & 0 \\\\ 0 & 1 & 0 & -1\\end{pmatrix} \\frac 1 {\\sqrt{2}} \\begin{pmatrix} 1 \\\\ 0 \\\\ 0 \\\\ 1\\end{pmatrix}  = \\frac 1 {2} \\begin{pmatrix} 1 \\\\ 1 \\\\ 1 \\\\ -1\\end{pmatrix} $$\n",
    "#\n",
    "# The\n",
    "#\n",
    "#\n",
    "#\n",
    "#\n",
    "#\n",
    "#\n",
    "#\n",
    "#\n",
    "# COMMENT\n",
    "#\n",
    "# $$a = H|0\\rangle=\\frac 1 {\\sqrt{2}} \\begin{pmatrix} 1 & 1 \\\\ 1 & -1 \\end{pmatrix} \\begin{pmatrix} 1 \\\\ 0 \\end{pmatrix} = \\frac 1 {\\sqrt{2}} \\begin{pmatrix} 1 \\\\ 1 \\end{pmatrix} $$\n",
    "#\n",
    "# Now there are two possibilities,\n",
    "\n",
    "\n"
   ],
   "metadata": {
    "collapsed": false,
    "pycharm": {
     "name": "#%%\n"
    }
   },
   "execution_count": 246,
   "outputs": []
  },
  {
   "cell_type": "markdown",
   "id": "0da6b8b3-c195-45c7-8921-def769c5c2f9",
   "metadata": {
    "slideshow": {
     "slide_type": "slide"
    },
    "pycharm": {
     "name": "#%% md\n"
    }
   },
   "source": [
    "# Code for the basic bomb tester circuit\n",
    "\n",
    "from qiskit import QuantumCircuit\n",
    "\n",
    "bomb_tester = QuantumCircuit(2)\n",
    "bomb_tester.h(0)\n",
    "bomb_tester.cx(0, 1)\n",
    "bomb_tester.h(0)\n",
    "bomb_tester.measure_all()\n",
    "bomb_tester.draw(output='mpl')\n"
   ]
  },
  {
   "cell_type": "code",
   "execution_count": 247,
   "outputs": [
    {
     "data": {
      "text/plain": "<Figure size 1471.05x204.68 with 1 Axes>",
      "image/png": "[encoded data removed]"
     },
     "execution_count": 247,
     "metadata": {},
     "output_type": "execute_result"
    }
   ],
   "source": [
    "from qiskit.circuit import QuantumRegister, ClassicalRegister\n",
    "import numpy as np\n",
    "from qiskit.circuit.library import RXGate, RYGate\n",
    "\n",
    "from qiskit.providers.aer import QasmSimulator\n",
    "from qiskit.visualization import plot_histogram\n",
    "\n",
    "simulator = QasmSimulator()\n",
    "\n",
    "\n",
    "\n",
    "cycles = 8 # Choose the number of times we want to pass our photon through the mystery box. The more, the better.\n",
    "theta = np.pi/cycles # The correct reflectivity of our beamsplitter is chosen for the quantum Zeno effect to work.\n",
    "\n",
    "# Create our quantum circuit\n",
    "qr = QuantumRegister(2, 'q')\n",
    "cr = ClassicalRegister(cycles, 'c')\n",
    "zeno_tester = QuantumCircuit(qr, cr)\n",
    "\n",
    "# Create a chain of our variable beamsplitters and C-NOT bombs\n",
    "for cycle in range(cycles-1):\n",
    "    zeno_tester.append(RXGate(theta), [qr[0]])\n",
    "    zeno_tester.cx(0, 1)\n",
    "    zeno_tester.measure(qr[1],cr[cycle])\n",
    "    zeno_tester.reset(qr[1])\n",
    "\n",
    "# Add a final beamsplitter\n",
    "zeno_tester.append(RXGate(theta), [qr[0]])\n",
    "zeno_tester.append(RXGate(-np.pi), [qr[0]])\n",
    "\n",
    "#Measure our photon to predict whether there is a bomb, and measure our bomb qubit to see if it exploded.\n",
    "zeno_tester.measure(qr[0],cr[cycles-1])\n",
    "zeno_tester.draw(output='mpl')\n"
   ],
   "metadata": {
    "collapsed": false,
    "pycharm": {
     "name": "#%%\n"
    }
   }
  },
  {
   "cell_type": "code",
   "execution_count": 248,
   "outputs": [
    {
     "data": {
      "text/plain": "<Figure size 504x360 with 1 Axes>",
      "image/png": "[encoded data removed]"
     },
     "execution_count": 248,
     "metadata": {},
     "output_type": "execute_result"
    }
   ],
   "source": [
    "# Running the Zeno bomb tester\n",
    "\n",
    "zeno_job = simulator.run(zeno_tester, shots=1000)\n",
    "zeno_result = zeno_job.result()\n",
    "zeno_counts = zeno_result.get_counts(zeno_tester)\n",
    "\n",
    "plot_histogram(zeno_counts)"
   ],
   "metadata": {
    "collapsed": false,
    "pycharm": {
     "name": "#%%\n"
    }
   }
  },
  {
   "cell_type": "code",
   "execution_count": 249,
   "id": "40e86522-a5d7-45be-8c36-3ffde94a130a",
   "metadata": {
    "slideshow": {
     "slide_type": "slide"
    }
   },
   "outputs": [
    {
     "data": {
      "text/plain": "<Figure size 989.452x204.68 with 1 Axes>",
      "image/png": "[encoded data removed]"
     },
     "execution_count": 249,
     "metadata": {},
     "output_type": "execute_result"
    }
   ],
   "source": [
    "from qiskit.circuit import QuantumRegister, ClassicalRegister\n",
    "import numpy as np\n",
    "from qiskit.circuit.library import RXGate, RYGate\n",
    "\n",
    "from qiskit.providers.aer import QasmSimulator\n",
    "from qiskit.visualization import plot_histogram\n",
    "\n",
    "simulator = QasmSimulator()\n",
    "\n",
    "\n",
    "\n",
    "cycles = 8 # Choose the number of times we want to pass our photon through the mystery box. The more, the better.\n",
    "theta = np.pi/cycles # The correct reflectivity of our beamsplitter is chosen for the quantum Zeno effect to work.\n",
    "\n",
    "# Create our quantum circuit\n",
    "qr = QuantumRegister(2, 'q')\n",
    "cr = ClassicalRegister(cycles, 'c')\n",
    "zeno_tester = QuantumCircuit(qr, cr)\n",
    "\n",
    "# Create a chain of our variable beamsplitters and C-NOT bombs\n",
    "for cycle in range(cycles-1):\n",
    "    zeno_tester.append(RXGate(theta), [qr[0]])\n",
    "    zeno_tester.measure(qr[1],cr[cycle])\n",
    "    zeno_tester.reset(qr[1])\n",
    "\n",
    "# Add a final beamsplitter\n",
    "zeno_tester.append(RXGate(theta), [qr[0]])\n",
    "zeno_tester.append(RXGate(-np.pi), [qr[0]])\n",
    "\n",
    "#Measure our photon to predict whether there is a bomb, and measure our bomb qubit to see if it exploded.\n",
    "zeno_tester.measure(qr[0],cr[cycles-1])\n",
    "zeno_tester.draw(output='mpl')\n"
   ]
  },
  {
   "cell_type": "code",
   "execution_count": 250,
   "id": "84d70d52",
   "metadata": {
    "slideshow": {
     "slide_type": "slide"
    }
   },
   "outputs": [
    {
     "data": {
      "text/plain": "<Figure size 504x360 with 1 Axes>",
      "image/png": "[encoded data removed]"
     },
     "execution_count": 250,
     "metadata": {},
     "output_type": "execute_result"
    }
   ],
   "source": [
    "# Running the Zeno bomb tester\n",
    "\n",
    "zeno_job = simulator.run(zeno_tester, shots=1000)\n",
    "zeno_result = zeno_job.result()\n",
    "zeno_counts = zeno_result.get_counts(zeno_tester)\n",
    "\n",
    "plot_histogram(zeno_counts)"
   ]
  },
  {
   "cell_type": "code",
   "execution_count": 250,
   "id": "21148de8",
   "metadata": {
    "slideshow": {
     "slide_type": "slide"
    }
   },
   "outputs": [],
   "source": []
  },
  {
   "cell_type": "code",
   "execution_count": 250,
   "id": "618c2248",
   "metadata": {
    "slideshow": {
     "slide_type": "slide"
    }
   },
   "outputs": [],
   "source": []
  }
 ],
 "metadata": {
  "celltoolbar": "Slideshow",
  "kernelspec": {
   "name": "pycharm-9db04278",
   "language": "python",
   "display_name": "PyCharm (QuantumBiscuit)"
  },
  "language_info": {
   "codemirror_mode": {
    "name": "ipython",
    "version": 3
   },
   "file_extension": ".py",
   "mimetype": "text/x-python",
   "name": "python",
   "nbconvert_exporter": "python",
   "pygments_lexer": "ipython3",
   "version": "3.8.9"
  },
  "livereveal": {
   "autolaunch": true,
   "scroll": true
  }
 },
 "nbformat": 4,
 "nbformat_minor": 5
}