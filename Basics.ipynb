{
 "cells": [
  {
   "cell_type": "markdown",
   "metadata": {},
   "source": [
    "## Superposition"
   ]
  },
  {
   "cell_type": "markdown",
   "metadata": {},
   "source": [
    "## Qiskit Gatter"
   ]
  },
  {
   "cell_type": "markdown",
   "metadata": {},
   "source": [
    "### Hadamard\n",
    "The Hadamard gate transfers the state of a qubit into the superposed state (superposition) of $|0\\rangle$ and $|1\\rangle$ (starting from the initial state $|0\\rangle$).\n",
    "In the Bloch sphere, this would be a rotation of 90° around the y-axis and a roatation of the z-axis by 180°. In matrix representation, the gate would look like this: $H = \\frac{1}{\\sqrt{2}} \\begin{pmatrix} 1 & 1 \\\\ 1 & -1 \\end{pmatrix} $ "
   ]
  },
  {
   "cell_type": "markdown",
   "metadata": {},
   "source": [
    "#### Example\n",
    "In the following example, the Hadamard gate is applied to the qubit with the initial state $|0\\rangle$ and then the qubit will be measured. Since it is brought into superposition by the Hadamard gate, the qubit collapses to either $|0\\rangle$ or $|1\\rangle$ when measured.\n",
    "\n",
    "The matrix representation of the qubit before the measurement is:\n",
    "$\\begin{pmatrix}1 \\\\ 0\\end{pmatrix} \\cdot \\frac{1}{\\sqrt{2}} \\begin{pmatrix} 1 & 1 \\\\ 1 & -1 \\end{pmatrix} = \\begin{pmatrix}\\frac{1}{\\sqrt{2}} \\\\ \\frac{1}{\\sqrt{2}} \\end{pmatrix} $\n",
    "\n",
    "Applying the Hadamard gate again, one would come out at the initial state of the qubit again."
   ]
  },
  {
   "cell_type": "code",
   "execution_count": 4,
   "metadata": {},
   "outputs": [
    {
     "data": {
      "text/html": [
       "<pre style=\"word-wrap: normal;white-space: pre;background: #fff0;line-height: 1.1;font-family: &quot;Courier New&quot;,Courier,monospace\">        ┌───┐ ░ ┌─┐\n",
       "     q: ┤ H ├─░─┤M├\n",
       "        └───┘ ░ └╥┘\n",
       "meas: 1/═════════╩═\n",
       "                 0 </pre>"
      ],
      "text/plain": [
       "        ┌───┐ ░ ┌─┐\n",
       "     q: ┤ H ├─░─┤M├\n",
       "        └───┘ ░ └╥┘\n",
       "meas: 1/═════════╩═\n",
       "                 0 "
      ]
     },
     "execution_count": 4,
     "metadata": {},
     "output_type": "execute_result"
    }
   ],
   "source": [
    "from qiskit import QuantumCircuit\n",
    "\n",
    "hadamard = QuantumCircuit(1)\n",
    "hadamard.h(0)\n",
    "hadamard.measure_all()\n",
    "hadamard.draw()"
   ]
  },
  {
   "cell_type": "markdown",
   "metadata": {},
   "source": [
    "If we now simulate the circuit, we get 50% $|0\\rangle$ and 50% $|1\\rangle$."
   ]
  },
  {
   "cell_type": "code",
   "execution_count": 11,
   "metadata": {},
   "outputs": [
    {
     "data": {
      "image/png": "[encoded data removed]",
      "text/plain": [
       "<Figure size 504x360 with 1 Axes>"
      ]
     },
     "execution_count": 11,
     "metadata": {},
     "output_type": "execute_result"
    }
   ],
   "source": [
    "from qiskit.providers.aer import QasmSimulator\n",
    "\n",
    "simulator = QasmSimulator()\n",
    "job = simulator.run(hadamard, shots=100000)\n",
    "result = job.result()\n",
    "\n",
    "from qiskit.visualization import plot_histogram\n",
    "plot_histogram(result.get_counts(hadamard))"
   ]
  },
  {
   "cell_type": "markdown",
   "metadata": {},
   "source": [
    "### C-NOT\n",
    "The C-NOT Gate has two input qubits $q_0$ and $q_1$. The value of $q_0$ remains the same over the whole operation. The value of $q_1$ will be changed in dependence of $q_0$. If $q_0$ is zero the value of $q_1$ will be remained. If $q_0$ is one, the value of $q_1$ will be negates.\n",
    "\n",
    "$|00\\rangle \\rightarrow  |00\\rangle \\\\ |01\\rangle \\rightarrow |01\\rangle \\\\ |10\\rangle \\rightarrow |11\\rangle \\\\|11\\rangle \\rightarrow |10\\rangle$ \n",
    "\n",
    "In the matrix representation: $\\begin{pmatrix}1 & 0 & 0 & 0 \\\\ 0& 1 & 0 & 0 \\\\ 0 & 0 & 0 & 1 \\\\ 0 & 0 & 1 & 0\\end{pmatrix}$"
   ]
  },
  {
   "cell_type": "markdown",
   "metadata": {},
   "source": [
    "#### Example\n",
    "In the following circuit we have to qubits. On the first qubit a Hadamard-Gate will be applied. After that the second qubit will be connected to the first one with the C-NOT gate."
   ]
  },
  {
   "cell_type": "code",
   "execution_count": 14,
   "metadata": {},
   "outputs": [
    {
     "data": {
      "text/html": [
       "<pre style=\"word-wrap: normal;white-space: pre;background: #fff0;line-height: 1.1;font-family: &quot;Courier New&quot;,Courier,monospace\">        ┌───┐      ░ ┌─┐   \n",
       "   q_0: ┤ H ├──■───░─┤M├───\n",
       "        └───┘┌─┴─┐ ░ └╥┘┌─┐\n",
       "   q_1: ─────┤ X ├─░──╫─┤M├\n",
       "             └───┘ ░  ║ └╥┘\n",
       "meas: 2/══════════════╩══╩═\n",
       "                      0  1 </pre>"
      ],
      "text/plain": [
       "        ┌───┐      ░ ┌─┐   \n",
       "   q_0: ┤ H ├──■───░─┤M├───\n",
       "        └───┘┌─┴─┐ ░ └╥┘┌─┐\n",
       "   q_1: ─────┤ X ├─░──╫─┤M├\n",
       "             └───┘ ░  ║ └╥┘\n",
       "meas: 2/══════════════╩══╩═\n",
       "                      0  1 "
      ]
     },
     "execution_count": 14,
     "metadata": {},
     "output_type": "execute_result"
    }
   ],
   "source": [
    "cnot = QuantumCircuit(2)\n",
    "cnot.h(0)\n",
    "cnot.cx(0, 1)\n",
    "cnot.measure_all()\n",
    "cnot.draw()"
   ]
  },
  {
   "cell_type": "markdown",
   "metadata": {},
   "source": [
    "In the end the there a two possible outcomes. Either both $q_0$ and $q_1$ are zero or one."
   ]
  },
  {
   "cell_type": "code",
   "execution_count": 18,
   "metadata": {},
   "outputs": [
    {
     "data": {
      "image/png": "[encoded data removed]",
      "text/plain": [
       "<Figure size 504x360 with 1 Axes>"
      ]
     },
     "execution_count": 18,
     "metadata": {},
     "output_type": "execute_result"
    }
   ],
   "source": [
    "simulator = QasmSimulator()\n",
    "job = simulator.run(cnot, shots=100000)\n",
    "result = job.result()\n",
    "\n",
    "from qiskit.visualization import plot_histogram\n",
    "plot_histogram(result.get_counts(cnot))"
   ]
  },
  {
   "cell_type": "markdown",
   "metadata": {},
   "source": [
    "### Rotation Gates\n",
    "#### RXGate\n",
    "The RXGate is rotation about the x-axis for a single qubit. In the matrix representation the RXGate would be: $$R_x (\\theta) = \\begin{pmatrix} \\cos\\left(\\frac{\\theta}{2}\\right) & -i\\sin\\left(\\frac{\\theta}{2}\\right) \\\\ -i\\sin\\left(\\frac{\\theta}{2}\\right) & \\cos\\left(\\frac{\\theta}{2}\\right) \\end{pmatrix}$$\n",
    "#### RYGate\n",
    "The RYGate is rotation about the y-axis for a single qubit. In the matrix representation the RYGate would be: $$R_y (\\theta) = \\begin{pmatrix} \\cos\\left(\\frac{\\theta}{2}\\right) & \\sin\\left(\\frac{\\theta}{2}\\right) \\\\ \\sin\\left(\\frac{\\theta}{2}\\right) & \\cos\\left(\\frac{\\theta}{2}\\right) \\end{pmatrix}$$\n",
    "#### RZGate\n",
    "The RZGate is rotation about the z-axis for a single qubit. In the matrix representation the RZGate would be: $$R_z (\\lambda) = \\begin{pmatrix} e^{-i\\frac{\\lambda}{2}} & 0 \\\\ 0 & e^{-i\\frac{\\lambda}{2}} \\end{pmatrix}$$"
   ]
  }
 ],
 "metadata": {
  "interpreter": {
   "hash": "c978cd2fbc50e551f77d53304b0a20576be3f1822334071b1184213fbc59918c"
  },
  "kernelspec": {
   "display_name": "Python 3.9.12 64-bit (windows store)",
   "language": "python",
   "name": "python3"
  },
  "language_info": {
   "codemirror_mode": {
    "name": "ipython",
    "version": 3
   },
   "file_extension": ".py",
   "mimetype": "text/x-python",
   "name": "python",
   "nbconvert_exporter": "python",
   "pygments_lexer": "ipython3",
   "version": "3.9.12"
  },
  "orig_nbformat": 4
 },
 "nbformat": 4,
 "nbformat_minor": 2
}
