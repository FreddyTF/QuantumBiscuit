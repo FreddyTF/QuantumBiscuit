{
 "cells": [
  {
   "cell_type": "code",
   "execution_count": 1,
   "id": "8660656e",
   "metadata": {},
   "outputs": [],
   "source": [
    "from qiskit import QuantumCircuit, QuantumRegister,ClassicalRegister, execute, transpile, Aer, IBMQ # circuit creation and execution\n",
    "from qiskit.providers.aer.noise import NoiseModel # simulate backends\n",
    "from qiskit.visualization import plot_histogram # visualize results\n",
    "from qiskit.quantum_info import Statevector, state_fidelity, hellinger_fidelity # statevector and metrics\n",
    "from qiskit.providers.ibmq import least_busy # get least busy device\n",
    "import qiskit.tools.jupyter # visualize backends\n",
    "from qiskit.circuit.library.standard_gates.rx import RXGate\n",
    "# from qiskit.ignis.mitigation.measurement import complete_meas_cal,CompleteMeasFitter # measurement error mitigation\n",
    "\n",
    "import pandas as pd # handy tools for calculation\n",
    "from numpy import pi\n",
    "\n",
    "# global vars\n",
    "n = 3 # number of qubits\n",
    "shots = 1000 # high number of shots per execution"
   ]
  },
  {
   "cell_type": "code",
   "execution_count": 2,
   "id": "0573d161",
   "metadata": {},
   "outputs": [
    {
     "data": {
      "image/png": "[encoded data removed]",
      "text/plain": [
       "<Figure size 327.252x204.68 with 1 Axes>"
      ]
     },
     "execution_count": 2,
     "metadata": {},
     "output_type": "execute_result"
    }
   ],
   "source": [
    "qreg_q = QuantumRegister(2, 'q')\n",
    "creg_c = ClassicalRegister(2, 'c')\n",
    "circuit = QuantumCircuit(qreg_q, creg_c)\n",
    "\n",
    "circuit.rx(pi*1/10, qreg_q[0])\n",
    "circuit.reset(qreg_q[1])\n",
    "circuit.cx(qreg_q[0], qreg_q[1])\n",
    "circuit.rx(-pi/2, qreg_q[0])\n",
    "circuit.measure(qreg_q[1], creg_c[1])\n",
    "circuit.measure(qreg_q[0], creg_c[0])\n",
    "circuit.draw(output='mpl')"
   ]
  },
  {
   "cell_type": "code",
   "execution_count": 3,
   "id": "f9b1692e",
   "metadata": {},
   "outputs": [
    {
     "name": "stdout",
     "output_type": "stream",
     "text": [
      "OPENQASM 2.0;\n",
      "include \"qelib1.inc\";\n",
      "qreg q[2];\n",
      "creg c[2];\n",
      "rx(pi/10) q[0];\n",
      "reset q[1];\n",
      "cx q[0],q[1];\n",
      "rx(-pi/2) q[0];\n",
      "measure q[1] -> c[1];\n",
      "measure q[0] -> c[0];\n",
      "\n"
     ]
    }
   ],
   "source": [
    "print(circuit.qasm())"
   ]
  },
  {
   "cell_type": "code",
   "execution_count": 4,
   "id": "85e6a738",
   "metadata": {},
   "outputs": [
    {
     "data": {
      "image/png": "[encoded data removed]",
      "text/plain": [
       "<Figure size 504x360 with 1 Axes>"
      ]
     },
     "execution_count": 4,
     "metadata": {},
     "output_type": "execute_result"
    }
   ],
   "source": [
    "# Running the basic bomb tester circuit\n",
    "\n",
    "from qiskit.providers.aer import QasmSimulator\n",
    "simulator = QasmSimulator()\n",
    "\n",
    "job = simulator.run(circuit, shots=1000)\n",
    "result = job.result()\n",
    "counts = result.get_counts(circuit)\n",
    "\n",
    "from qiskit.visualization import plot_histogram\n",
    "plot_histogram(counts)"
   ]
  },
  {
   "cell_type": "code",
   "execution_count": 5,
   "id": "0e44f1b4",
   "metadata": {},
   "outputs": [],
   "source": [
    "expected_states = ['00', '01', '10', '11']  # target states\n",
    "\n",
    "def get_state_accuracy(counts): # funciton to calculate state accuracy\n",
    "    expected_counts = 0\n",
    "    for state in counts.keys():\n",
    "        if state in expected_states:\n",
    "            expected_counts = expected_counts + counts[state]\n",
    "    state_accuracy = expected_counts / shots\n",
    "    return str(state_accuracy*100)+\"%\""
   ]
  },
  {
   "cell_type": "code",
   "execution_count": 6,
   "id": "8a0cc3f0",
   "metadata": {},
   "outputs": [
    {
     "name": "stdout",
     "output_type": "stream",
     "text": [
      "state accuracy on the simulator: 100.0%\n"
     ]
    }
   ],
   "source": [
    "counts = execute(circuit, backend=Aer.get_backend('qasm_simulator'), shots=shots).result().get_counts() # execution on simulator\n",
    "state_accuracy = get_state_accuracy(counts)\n",
    "print(f\"state accuracy on the simulator: {state_accuracy}\")"
   ]
  },
  {
   "cell_type": "code",
   "execution_count": 7,
   "id": "732716f0",
   "metadata": {},
   "outputs": [],
   "source": [
    "from qiskit.test.mock import *\n",
    "\n",
    "backends = [FakeVigo()]\n",
    "backend1 = FakeVigo()"
   ]
  },
  {
   "cell_type": "code",
   "execution_count": 9,
   "id": "0edc833f",
   "metadata": {
    "scrolled": false
   },
   "outputs": [
    {
     "name": "stdout",
     "output_type": "stream",
     "text": [
      "original circuit\n",
      "     ┌──────────┐     ┌──────────┐┌─┐\n",
      "q_0: ┤ Rx(π/10) ├──■──┤ Rx(-π/2) ├┤M├\n",
      "     └──────────┘┌─┴─┐└───┬─┬────┘└╥┘\n",
      "q_1: ────|0>─────┤ X ├────┤M├──────╫─\n",
      "                 └───┘    └╥┘      ║ \n",
      "c: 2/══════════════════════╩═══════╩═\n",
      "                           1       0 \n",
      "optimization level: 0\n",
      "global phase: π\n",
      "               ┌─────────┐┌────┐┌────────────┐┌────┐┌──────────┐     »\n",
      "      q_0 -> 0 ┤ Rz(π/2) ├┤ √X ├┤ Rz(11π/10) ├┤ √X ├┤ Rz(5π/2) ├──■──»\n",
      "               └─────────┘└────┘└────────────┘└────┘└──────────┘┌─┴─┐»\n",
      "      q_1 -> 1 ────|0>──────────────────────────────────────────┤ X ├»\n",
      "                                                                └───┘»\n",
      "ancilla_0 -> 2 ──────────────────────────────────────────────────────»\n",
      "                                                                     »\n",
      "ancilla_1 -> 3 ──────────────────────────────────────────────────────»\n",
      "                                                                     »\n",
      "ancilla_2 -> 4 ──────────────────────────────────────────────────────»\n",
      "                                                                     »\n",
      "          c: 2/══════════════════════════════════════════════════════»\n",
      "                                                                     »\n",
      "«               ┌─────────┐┌────┐┌─────────┐┌────┐┌──────────┐┌─┐\n",
      "«      q_0 -> 0 ┤ Rz(π/2) ├┤ √X ├┤ Rz(π/2) ├┤ √X ├┤ Rz(5π/2) ├┤M├\n",
      "«               └───┬─┬───┘└────┘└─────────┘└────┘└──────────┘└╥┘\n",
      "«      q_1 -> 1 ────┤M├────────────────────────────────────────╫─\n",
      "«                   └╥┘                                        ║ \n",
      "«ancilla_0 -> 2 ─────╫─────────────────────────────────────────╫─\n",
      "«                    ║                                         ║ \n",
      "«ancilla_1 -> 3 ─────╫─────────────────────────────────────────╫─\n",
      "«                    ║                                         ║ \n",
      "«ancilla_2 -> 4 ─────╫─────────────────────────────────────────╫─\n",
      "«                    ║                                         ║ \n",
      "«          c: 2/═════╩═════════════════════════════════════════╩═\n",
      "«                    1                                         0 \n",
      "OPENQASM 2.0;\n",
      "include \"qelib1.inc\";\n",
      "qreg q[5];\n",
      "creg c[2];\n",
      "rz(pi/2) q[0];\n",
      "sx q[0];\n",
      "rz(11*pi/10) q[0];\n",
      "sx q[0];\n",
      "rz(5*pi/2) q[0];\n",
      "reset q[1];\n",
      "cx q[0],q[1];\n",
      "rz(pi/2) q[0];\n",
      "sx q[0];\n",
      "rz(pi/2) q[0];\n",
      "sx q[0];\n",
      "rz(5*pi/2) q[0];\n",
      "measure q[0] -> c[0];\n",
      "measure q[1] -> c[1];\n",
      "\n",
      "optimization level: 1\n",
      "global phase: π/4\n",
      "               ┌─────────┐┌────┐┌────────────┐┌────┐┌──────────┐     ┌────────┐»\n",
      "      q_0 -> 0 ┤ Rz(π/2) ├┤ √X ├┤ Rz(11π/10) ├┤ √X ├┤ Rz(5π/2) ├──■──┤ Rz(-π) ├»\n",
      "               └─────────┘└────┘└────────────┘└────┘└──────────┘┌─┴─┐└──┬─┬───┘»\n",
      "      q_1 -> 1 ─────────────────────────────────────────────────┤ X ├───┤M├────»\n",
      "                                                                └───┘   └╥┘    »\n",
      "ancilla_0 -> 2 ──────────────────────────────────────────────────────────╫─────»\n",
      "                                                                         ║     »\n",
      "ancilla_1 -> 3 ──────────────────────────────────────────────────────────╫─────»\n",
      "                                                                         ║     »\n",
      "ancilla_2 -> 4 ──────────────────────────────────────────────────────────╫─────»\n",
      "                                                                         ║     »\n",
      "          c: 2/══════════════════════════════════════════════════════════╩═════»\n",
      "                                                                         1     »\n",
      "«               ┌────┐┌────────┐┌─┐\n",
      "«      q_0 -> 0 ┤ √X ├┤ Rz(-π) ├┤M├\n",
      "«               └────┘└────────┘└╥┘\n",
      "«      q_1 -> 1 ─────────────────╫─\n",
      "«                                ║ \n",
      "«ancilla_0 -> 2 ─────────────────╫─\n",
      "«                                ║ \n",
      "«ancilla_1 -> 3 ─────────────────╫─\n",
      "«                                ║ \n",
      "«ancilla_2 -> 4 ─────────────────╫─\n",
      "«                                ║ \n",
      "«          c: 2/═════════════════╩═\n",
      "«                                0 \n",
      "OPENQASM 2.0;\n",
      "include \"qelib1.inc\";\n",
      "qreg q[5];\n",
      "creg c[2];\n",
      "rz(pi/2) q[0];\n",
      "sx q[0];\n",
      "rz(11*pi/10) q[0];\n",
      "sx q[0];\n",
      "rz(5*pi/2) q[0];\n",
      "cx q[0],q[1];\n",
      "rz(-pi) q[0];\n",
      "sx q[0];\n",
      "rz(-pi) q[0];\n",
      "measure q[0] -> c[0];\n",
      "measure q[1] -> c[1];\n",
      "\n",
      "optimization level: 2\n",
      "                                                                           »\n",
      "ancilla_0 -> 0 ────────────────────────────────────────────────────────────»\n",
      "               ┌─────────┐┌────┐┌────────────┐┌────┐┌──────────┐     ┌────┐»\n",
      "      q_0 -> 1 ┤ Rz(π/2) ├┤ √X ├┤ Rz(11π/10) ├┤ √X ├┤ Rz(3π/2) ├──■──┤ √X ├»\n",
      "               └─────────┘└────┘└────────────┘└────┘└──────────┘┌─┴─┐└┬─┬─┘»\n",
      "      q_1 -> 2 ─────────────────────────────────────────────────┤ X ├─┤M├──»\n",
      "                                                                └───┘ └╥┘  »\n",
      "ancilla_1 -> 3 ────────────────────────────────────────────────────────╫───»\n",
      "                                                                       ║   »\n",
      "ancilla_2 -> 4 ────────────────────────────────────────────────────────╫───»\n",
      "                                                                       ║   »\n",
      "          c: 2/════════════════════════════════════════════════════════╩═══»\n",
      "                                                                       1   »\n",
      "«                            \n",
      "«ancilla_0 -> 0 ─────────────\n",
      "«               ┌────────┐┌─┐\n",
      "«      q_0 -> 1 ┤ Rz(-π) ├┤M├\n",
      "«               └────────┘└╥┘\n",
      "«      q_1 -> 2 ───────────╫─\n",
      "«                          ║ \n",
      "«ancilla_1 -> 3 ───────────╫─\n",
      "«                          ║ \n",
      "«ancilla_2 -> 4 ───────────╫─\n",
      "«                          ║ \n",
      "«          c: 2/═══════════╩═\n",
      "«                          0 \n",
      "OPENQASM 2.0;\n",
      "include \"qelib1.inc\";\n",
      "qreg q[5];\n",
      "creg c[2];\n",
      "rz(pi/2) q[1];\n",
      "sx q[1];\n",
      "rz(11*pi/10) q[1];\n",
      "sx q[1];\n",
      "rz(3*pi/2) q[1];\n",
      "cx q[1],q[2];\n",
      "sx q[1];\n",
      "rz(-pi) q[1];\n",
      "measure q[1] -> c[0];\n",
      "measure q[2] -> c[1];\n",
      "\n",
      "optimization level: 3\n",
      "                                                                           »\n",
      "ancilla_0 -> 0 ────────────────────────────────────────────────────────────»\n",
      "               ┌─────────┐┌────┐┌────────────┐┌────┐┌──────────┐     ┌────┐»\n",
      "      q_0 -> 1 ┤ Rz(π/2) ├┤ √X ├┤ Rz(11π/10) ├┤ √X ├┤ Rz(3π/2) ├──■──┤ √X ├»\n",
      "               └─────────┘└────┘└────────────┘└────┘└──────────┘┌─┴─┐└┬─┬─┘»\n",
      "      q_1 -> 2 ─────────────────────────────────────────────────┤ X ├─┤M├──»\n",
      "                                                                └───┘ └╥┘  »\n",
      "ancilla_1 -> 3 ────────────────────────────────────────────────────────╫───»\n",
      "                                                                       ║   »\n",
      "ancilla_2 -> 4 ────────────────────────────────────────────────────────╫───»\n",
      "                                                                       ║   »\n",
      "          c: 2/════════════════════════════════════════════════════════╩═══»\n",
      "                                                                       1   »\n",
      "«                            \n",
      "«ancilla_0 -> 0 ─────────────\n",
      "«               ┌────────┐┌─┐\n",
      "«      q_0 -> 1 ┤ Rz(-π) ├┤M├\n",
      "«               └────────┘└╥┘\n",
      "«      q_1 -> 2 ───────────╫─\n",
      "«                          ║ \n",
      "«ancilla_1 -> 3 ───────────╫─\n",
      "«                          ║ \n",
      "«ancilla_2 -> 4 ───────────╫─\n",
      "«                          ║ \n",
      "«          c: 2/═══════════╩═\n",
      "«                          0 \n",
      "OPENQASM 2.0;\n",
      "include \"qelib1.inc\";\n",
      "qreg q[5];\n",
      "creg c[2];\n",
      "rz(pi/2) q[1];\n",
      "sx q[1];\n",
      "rz(11*pi/10) q[1];\n",
      "sx q[1];\n",
      "rz(3*pi/2) q[1];\n",
      "cx q[1],q[2];\n",
      "sx q[1];\n",
      "rz(-pi) q[1];\n",
      "measure q[1] -> c[0];\n",
      "measure q[2] -> c[1];\n",
      "\n"
     ]
    }
   ],
   "source": [
    "# compare transpiled circuits for different optimization levels on backend 1\n",
    "\n",
    "optimization_levels = [0,1,2,3]\n",
    "print(\"original circuit\")\n",
    "print(circuit)\n",
    "for optim_level in optimization_levels:\n",
    "    print(f\"optimization level: {optim_level}\")\n",
    "    transpiled_circuit = transpile(circuit, backend=backend1, optimization_level=optim_level)\n",
    "    print(transpiled_circuit)\n",
    "    print(transpiled_circuit.qasm())"
   ]
  }
 ],
 "metadata": {
  "kernelspec": {
   "display_name": "Python 3 (ipykernel)",
   "language": "python",
   "name": "python3"
  },
  "language_info": {
   "codemirror_mode": {
    "name": "ipython",
    "version": 3
   },
   "file_extension": ".py",
   "mimetype": "text/x-python",
   "name": "python",
   "nbconvert_exporter": "python",
   "pygments_lexer": "ipython3",
   "version": "3.8.12"
  }
 },
 "nbformat": 4,
 "nbformat_minor": 5
}
