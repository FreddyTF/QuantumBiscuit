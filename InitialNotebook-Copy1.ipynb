{
 "cells": [
  {
   "cell_type": "code",
   "execution_count": 1,
   "id": "7681def3-0ba9-4b23-8ec4-e02658bd224c",
   "metadata": {
    "slideshow": {
     "slide_type": "slide"
    }
   },
   "outputs": [
    {
     "name": "stderr",
     "output_type": "stream",
     "text": [
      "WARNING: You are using pip version 21.3.1; however, version 22.0.4 is available.\n",
      "You should consider upgrading via the 'c:\\users\\frede\\appdata\\local\\programs\\python\\python38\\python.exe -m pip install --upgrade pip' command.\n"
     ]
    },
    {
     "name": "stdout",
     "output_type": "stream",
     "text": [
      "Requirement already satisfied: qiskit in c:\\users\\frede\\appdata\\local\\programs\\python\\python38\\lib\\site-packages (0.34.2)\n",
      "Requirement already satisfied: qiskit-terra==0.19.2 in c:\\users\\frede\\appdata\\local\\programs\\python\\python38\\lib\\site-packages (from qiskit) (0.19.2)\n",
      "Requirement already satisfied: qiskit-aer==0.10.3 in c:\\users\\frede\\appdata\\local\\programs\\python\\python38\\lib\\site-packages (from qiskit) (0.10.3)\n",
      "Requirement already satisfied: qiskit-ibmq-provider==0.18.3 in c:\\users\\frede\\appdata\\local\\programs\\python\\python38\\lib\\site-packages (from qiskit) (0.18.3)\n",
      "Requirement already satisfied: qiskit-ignis==0.7.0 in c:\\users\\frede\\appdata\\local\\programs\\python\\python38\\lib\\site-packages (from qiskit) (0.7.0)\n",
      "Requirement already satisfied: numpy>=1.16.3 in c:\\users\\frede\\appdata\\local\\programs\\python\\python38\\lib\\site-packages (from qiskit-aer==0.10.3->qiskit) (1.18.1)\n",
      "Requirement already satisfied: scipy>=1.0 in c:\\users\\frede\\appdata\\local\\programs\\python\\python38\\lib\\site-packages (from qiskit-aer==0.10.3->qiskit) (1.8.0)\n",
      "Requirement already satisfied: websocket-client>=1.0.1 in c:\\users\\frede\\appdata\\local\\programs\\python\\python38\\lib\\site-packages (from qiskit-ibmq-provider==0.18.3->qiskit) (1.3.1)\n",
      "Requirement already satisfied: requests>=2.19 in c:\\users\\frede\\appdata\\local\\programs\\python\\python38\\lib\\site-packages (from qiskit-ibmq-provider==0.18.3->qiskit) (2.27.1)\n",
      "Requirement already satisfied: urllib3>=1.21.1 in c:\\users\\frede\\appdata\\local\\programs\\python\\python38\\lib\\site-packages (from qiskit-ibmq-provider==0.18.3->qiskit) (1.26.9)\n",
      "Requirement already satisfied: python-dateutil>=2.8.0 in c:\\users\\frede\\appdata\\local\\programs\\python\\python38\\lib\\site-packages (from qiskit-ibmq-provider==0.18.3->qiskit) (2.8.1)\n",
      "Requirement already satisfied: requests-ntlm>=1.1.0 in c:\\users\\frede\\appdata\\local\\programs\\python\\python38\\lib\\site-packages (from qiskit-ibmq-provider==0.18.3->qiskit) (1.1.0)\n",
      "Requirement already satisfied: setuptools>=40.1.0 in c:\\users\\frede\\appdata\\local\\programs\\python\\python38\\lib\\site-packages (from qiskit-ignis==0.7.0->qiskit) (49.2.1)\n",
      "Requirement already satisfied: retworkx>=0.8.0 in c:\\users\\frede\\appdata\\local\\programs\\python\\python38\\lib\\site-packages (from qiskit-ignis==0.7.0->qiskit) (0.11.0)\n",
      "Requirement already satisfied: ply>=3.10 in c:\\users\\frede\\appdata\\local\\programs\\python\\python38\\lib\\site-packages (from qiskit-terra==0.19.2->qiskit) (3.11)\n",
      "Requirement already satisfied: stevedore>=3.0.0 in c:\\users\\frede\\appdata\\local\\programs\\python\\python38\\lib\\site-packages (from qiskit-terra==0.19.2->qiskit) (3.5.0)\n",
      "Requirement already satisfied: tweedledum<2.0,>=1.1 in c:\\users\\frede\\appdata\\local\\programs\\python\\python38\\lib\\site-packages (from qiskit-terra==0.19.2->qiskit) (1.1.1)\n",
      "Requirement already satisfied: python-constraint>=1.4 in c:\\users\\frede\\appdata\\local\\programs\\python\\python38\\lib\\site-packages (from qiskit-terra==0.19.2->qiskit) (1.4.0)\n",
      "Requirement already satisfied: sympy>=1.3 in c:\\users\\frede\\appdata\\local\\programs\\python\\python38\\lib\\site-packages (from qiskit-terra==0.19.2->qiskit) (1.10)\n",
      "Requirement already satisfied: psutil>=5 in c:\\users\\frede\\appdata\\local\\programs\\python\\python38\\lib\\site-packages (from qiskit-terra==0.19.2->qiskit) (5.9.0)\n",
      "Requirement already satisfied: dill>=0.3 in c:\\users\\frede\\appdata\\local\\programs\\python\\python38\\lib\\site-packages (from qiskit-terra==0.19.2->qiskit) (0.3.4)\n",
      "Requirement already satisfied: six>=1.5 in c:\\users\\frede\\appdata\\local\\programs\\python\\python38\\lib\\site-packages (from python-dateutil>=2.8.0->qiskit-ibmq-provider==0.18.3->qiskit) (1.14.0)\n",
      "Requirement already satisfied: charset-normalizer~=2.0.0 in c:\\users\\frede\\appdata\\local\\programs\\python\\python38\\lib\\site-packages (from requests>=2.19->qiskit-ibmq-provider==0.18.3->qiskit) (2.0.12)\n",
      "Requirement already satisfied: idna<4,>=2.5 in c:\\users\\frede\\appdata\\local\\programs\\python\\python38\\lib\\site-packages (from requests>=2.19->qiskit-ibmq-provider==0.18.3->qiskit) (3.3)\n",
      "Requirement already satisfied: certifi>=2017.4.17 in c:\\users\\frede\\appdata\\local\\programs\\python\\python38\\lib\\site-packages (from requests>=2.19->qiskit-ibmq-provider==0.18.3->qiskit) (2021.10.8)\n",
      "Requirement already satisfied: cryptography>=1.3 in c:\\users\\frede\\appdata\\local\\programs\\python\\python38\\lib\\site-packages (from requests-ntlm>=1.1.0->qiskit-ibmq-provider==0.18.3->qiskit) (36.0.2)\n",
      "Requirement already satisfied: ntlm-auth>=1.0.2 in c:\\users\\frede\\appdata\\local\\programs\\python\\python38\\lib\\site-packages (from requests-ntlm>=1.1.0->qiskit-ibmq-provider==0.18.3->qiskit) (1.5.0)\n",
      "Requirement already satisfied: pbr!=2.1.0,>=2.0.0 in c:\\users\\frede\\appdata\\local\\programs\\python\\python38\\lib\\site-packages (from stevedore>=3.0.0->qiskit-terra==0.19.2->qiskit) (5.8.1)\n",
      "Requirement already satisfied: mpmath>=0.19 in c:\\users\\frede\\appdata\\local\\programs\\python\\python38\\lib\\site-packages (from sympy>=1.3->qiskit-terra==0.19.2->qiskit) (1.2.1)\n",
      "Requirement already satisfied: cffi>=1.12 in c:\\users\\frede\\appdata\\local\\programs\\python\\python38\\lib\\site-packages (from cryptography>=1.3->requests-ntlm>=1.1.0->qiskit-ibmq-provider==0.18.3->qiskit) (1.15.0)\n",
      "Requirement already satisfied: pycparser in c:\\users\\frede\\appdata\\local\\programs\\python\\python38\\lib\\site-packages (from cffi>=1.12->cryptography>=1.3->requests-ntlm>=1.1.0->qiskit-ibmq-provider==0.18.3->qiskit) (2.21)\n",
      "Requirement already satisfied: pylatexenc in c:\\users\\frede\\appdata\\local\\programs\\python\\python38\\lib\\site-packages (2.10)\n"
     ]
    },
    {
     "name": "stderr",
     "output_type": "stream",
     "text": [
      "WARNING: You are using pip version 21.3.1; however, version 22.0.4 is available.\n",
      "You should consider upgrading via the 'c:\\users\\frede\\appdata\\local\\programs\\python\\python38\\python.exe -m pip install --upgrade pip' command.\n"
     ]
    },
    {
     "name": "stdout",
     "output_type": "stream",
     "text": [
      "Requirement already satisfied: matplotlib in c:\\users\\frede\\appdata\\local\\programs\\python\\python38\\lib\\site-packages (3.2.1)\n",
      "Requirement already satisfied: python-dateutil>=2.1 in c:\\users\\frede\\appdata\\local\\programs\\python\\python38\\lib\\site-packages (from matplotlib) (2.8.1)\n",
      "Requirement already satisfied: numpy>=1.11 in c:\\users\\frede\\appdata\\local\\programs\\python\\python38\\lib\\site-packages (from matplotlib) (1.18.1)\n",
      "Requirement already satisfied: pyparsing!=2.0.4,!=2.1.2,!=2.1.6,>=2.0.1 in c:\\users\\frede\\appdata\\local\\programs\\python\\python38\\lib\\site-packages (from matplotlib) (2.4.6)\n",
      "Requirement already satisfied: cycler>=0.10 in c:\\users\\frede\\appdata\\local\\programs\\python\\python38\\lib\\site-packages (from matplotlib) (0.10.0)\n",
      "Requirement already satisfied: kiwisolver>=1.0.1 in c:\\users\\frede\\appdata\\local\\programs\\python\\python38\\lib\\site-packages (from matplotlib) (1.2.0)\n",
      "Requirement already satisfied: six in c:\\users\\frede\\appdata\\local\\programs\\python\\python38\\lib\\site-packages (from cycler>=0.10->matplotlib) (1.14.0)\n"
     ]
    },
    {
     "name": "stderr",
     "output_type": "stream",
     "text": [
      "WARNING: You are using pip version 21.3.1; however, version 22.0.4 is available.\n",
      "You should consider upgrading via the 'c:\\users\\frede\\appdata\\local\\programs\\python\\python38\\python.exe -m pip install --upgrade pip' command.\n"
     ]
    },
    {
     "name": "stdout",
     "output_type": "stream",
     "text": [
      "Requirement already satisfied: RISE in c:\\users\\frede\\appdata\\local\\programs\\python\\python38\\lib\\site-packages (5.7.1)\n",
      "Requirement already satisfied: notebook>=6.0 in c:\\users\\frede\\appdata\\local\\programs\\python\\python38\\lib\\site-packages (from RISE) (6.4.10)\n",
      "Requirement already satisfied: pyzmq>=17 in c:\\users\\frede\\appdata\\local\\programs\\python\\python38\\lib\\site-packages (from notebook>=6.0->RISE) (22.3.0)\n",
      "Requirement already satisfied: nbformat in c:\\users\\frede\\appdata\\local\\programs\\python\\python38\\lib\\site-packages (from notebook>=6.0->RISE) (5.2.0)\n",
      "Requirement already satisfied: nest-asyncio>=1.5 in c:\\users\\frede\\appdata\\local\\programs\\python\\python38\\lib\\site-packages (from notebook>=6.0->RISE) (1.5.4)\n",
      "Requirement already satisfied: jinja2 in c:\\users\\frede\\appdata\\local\\programs\\python\\python38\\lib\\site-packages (from notebook>=6.0->RISE) (3.0.3)\n",
      "Requirement already satisfied: Send2Trash>=1.8.0 in c:\\users\\frede\\appdata\\local\\programs\\python\\python38\\lib\\site-packages (from notebook>=6.0->RISE) (1.8.0)\n",
      "Requirement already satisfied: argon2-cffi in c:\\users\\frede\\appdata\\local\\programs\\python\\python38\\lib\\site-packages (from notebook>=6.0->RISE) (21.3.0)\n",
      "Requirement already satisfied: ipykernel in c:\\users\\frede\\appdata\\local\\programs\\python\\python38\\lib\\site-packages (from notebook>=6.0->RISE) (6.9.2)\n",
      "Requirement already satisfied: terminado>=0.8.3 in c:\\users\\frede\\appdata\\local\\programs\\python\\python38\\lib\\site-packages (from notebook>=6.0->RISE) (0.13.3)\n",
      "Requirement already satisfied: prometheus-client in c:\\users\\frede\\appdata\\local\\programs\\python\\python38\\lib\\site-packages (from notebook>=6.0->RISE) (0.13.1)\n",
      "Requirement already satisfied: ipython-genutils in c:\\users\\frede\\appdata\\local\\programs\\python\\python38\\lib\\site-packages (from notebook>=6.0->RISE) (0.2.0)\n",
      "Requirement already satisfied: jupyter-client>=5.3.4 in c:\\users\\frede\\appdata\\local\\programs\\python\\python38\\lib\\site-packages (from notebook>=6.0->RISE) (7.1.2)\n",
      "Requirement already satisfied: jupyter-core>=4.6.1 in c:\\users\\frede\\appdata\\local\\programs\\python\\python38\\lib\\site-packages (from notebook>=6.0->RISE) (4.9.2)\n",
      "Requirement already satisfied: traitlets>=4.2.1 in c:\\users\\frede\\appdata\\local\\programs\\python\\python38\\lib\\site-packages (from notebook>=6.0->RISE) (5.1.1)\n",
      "Requirement already satisfied: tornado>=6.1 in c:\\users\\frede\\appdata\\local\\programs\\python\\python38\\lib\\site-packages (from notebook>=6.0->RISE) (6.1)\n",
      "Requirement already satisfied: nbconvert>=5 in c:\\users\\frede\\appdata\\local\\programs\\python\\python38\\lib\\site-packages (from notebook>=6.0->RISE) (6.4.4)\n",
      "Requirement already satisfied: python-dateutil>=2.1 in c:\\users\\frede\\appdata\\local\\programs\\python\\python38\\lib\\site-packages (from jupyter-client>=5.3.4->notebook>=6.0->RISE) (2.8.1)\n",
      "Requirement already satisfied: entrypoints in c:\\users\\frede\\appdata\\local\\programs\\python\\python38\\lib\\site-packages (from jupyter-client>=5.3.4->notebook>=6.0->RISE) (0.3)\n",
      "Requirement already satisfied: pywin32>=1.0 in c:\\users\\frede\\appdata\\local\\programs\\python\\python38\\lib\\site-packages (from jupyter-core>=4.6.1->notebook>=6.0->RISE) (303)\n",
      "Requirement already satisfied: pygments>=2.4.1 in c:\\users\\frede\\appdata\\local\\programs\\python\\python38\\lib\\site-packages (from nbconvert>=5->notebook>=6.0->RISE) (2.11.2)\n",
      "Requirement already satisfied: testpath in c:\\users\\frede\\appdata\\local\\programs\\python\\python38\\lib\\site-packages (from nbconvert>=5->notebook>=6.0->RISE) (0.6.0)\n",
      "Requirement already satisfied: beautifulsoup4 in c:\\users\\frede\\appdata\\local\\programs\\python\\python38\\lib\\site-packages (from nbconvert>=5->notebook>=6.0->RISE) (4.10.0)\n",
      "Requirement already satisfied: nbclient<0.6.0,>=0.5.0 in c:\\users\\frede\\appdata\\local\\programs\\python\\python38\\lib\\site-packages (from nbconvert>=5->notebook>=6.0->RISE) (0.5.13)\n",
      "Requirement already satisfied: defusedxml in c:\\users\\frede\\appdata\\local\\programs\\python\\python38\\lib\\site-packages (from nbconvert>=5->notebook>=6.0->RISE) (0.7.1)\n",
      "Requirement already satisfied: pandocfilters>=1.4.1 in c:\\users\\frede\\appdata\\local\\programs\\python\\python38\\lib\\site-packages (from nbconvert>=5->notebook>=6.0->RISE) (1.5.0)\n",
      "Requirement already satisfied: mistune<2,>=0.8.1 in c:\\users\\frede\\appdata\\local\\programs\\python\\python38\\lib\\site-packages (from nbconvert>=5->notebook>=6.0->RISE) (0.8.4)\n",
      "Requirement already satisfied: bleach in c:\\users\\frede\\appdata\\local\\programs\\python\\python38\\lib\\site-packages (from nbconvert>=5->notebook>=6.0->RISE) (4.1.0)\n",
      "Requirement already satisfied: jupyterlab-pygments in c:\\users\\frede\\appdata\\local\\programs\\python\\python38\\lib\\site-packages (from nbconvert>=5->notebook>=6.0->RISE) (0.1.2)\n",
      "Requirement already satisfied: MarkupSafe>=2.0 in c:\\users\\frede\\appdata\\local\\programs\\python\\python38\\lib\\site-packages (from jinja2->notebook>=6.0->RISE) (2.1.1)\n",
      "Requirement already satisfied: jsonschema!=2.5.0,>=2.4 in c:\\users\\frede\\appdata\\local\\programs\\python\\python38\\lib\\site-packages (from nbformat->notebook>=6.0->RISE) (4.4.0)\n",
      "Requirement already satisfied: pywinpty>=1.1.0 in c:\\users\\frede\\appdata\\local\\programs\\python\\python38\\lib\\site-packages (from terminado>=0.8.3->notebook>=6.0->RISE) (2.0.5)\n",
      "Requirement already satisfied: argon2-cffi-bindings in c:\\users\\frede\\appdata\\local\\programs\\python\\python38\\lib\\site-packages (from argon2-cffi->notebook>=6.0->RISE) (21.2.0)\n",
      "Requirement already satisfied: psutil in c:\\users\\frede\\appdata\\local\\programs\\python\\python38\\lib\\site-packages (from ipykernel->notebook>=6.0->RISE) (5.9.0)\n",
      "Requirement already satisfied: matplotlib-inline<0.2.0,>=0.1.0 in c:\\users\\frede\\appdata\\local\\programs\\python\\python38\\lib\\site-packages (from ipykernel->notebook>=6.0->RISE) (0.1.3)\n",
      "Requirement already satisfied: ipython>=7.23.1 in c:\\users\\frede\\appdata\\local\\programs\\python\\python38\\lib\\site-packages (from ipykernel->notebook>=6.0->RISE) (8.1.1)\n",
      "Requirement already satisfied: debugpy<2.0,>=1.0.0 in c:\\users\\frede\\appdata\\local\\programs\\python\\python38\\lib\\site-packages (from ipykernel->notebook>=6.0->RISE) (1.5.1)\n",
      "Requirement already satisfied: pickleshare in c:\\users\\frede\\appdata\\local\\programs\\python\\python38\\lib\\site-packages (from ipython>=7.23.1->ipykernel->notebook>=6.0->RISE) (0.7.5)\n",
      "Requirement already satisfied: stack-data in c:\\users\\frede\\appdata\\local\\programs\\python\\python38\\lib\\site-packages (from ipython>=7.23.1->ipykernel->notebook>=6.0->RISE) (0.2.0)\n",
      "Requirement already satisfied: backcall in c:\\users\\frede\\appdata\\local\\programs\\python\\python38\\lib\\site-packages (from ipython>=7.23.1->ipykernel->notebook>=6.0->RISE) (0.2.0)\n",
      "Requirement already satisfied: prompt-toolkit!=3.0.0,!=3.0.1,<3.1.0,>=2.0.0 in c:\\users\\frede\\appdata\\local\\programs\\python\\python38\\lib\\site-packages (from ipython>=7.23.1->ipykernel->notebook>=6.0->RISE) (3.0.28)\n",
      "Requirement already satisfied: setuptools>=18.5 in c:\\users\\frede\\appdata\\local\\programs\\python\\python38\\lib\\site-packages (from ipython>=7.23.1->ipykernel->notebook>=6.0->RISE) (49.2.1)\n",
      "Requirement already satisfied: colorama in c:\\users\\frede\\appdata\\local\\programs\\python\\python38\\lib\\site-packages (from ipython>=7.23.1->ipykernel->notebook>=6.0->RISE) (0.4.3)\n",
      "Requirement already satisfied: jedi>=0.16 in c:\\users\\frede\\appdata\\local\\programs\\python\\python38\\lib\\site-packages (from ipython>=7.23.1->ipykernel->notebook>=6.0->RISE) (0.18.1)\n",
      "Requirement already satisfied: decorator in c:\\users\\frede\\appdata\\local\\programs\\python\\python38\\lib\\site-packages (from ipython>=7.23.1->ipykernel->notebook>=6.0->RISE) (5.1.1)\n",
      "Requirement already satisfied: attrs>=17.4.0 in c:\\users\\frede\\appdata\\local\\programs\\python\\python38\\lib\\site-packages (from jsonschema!=2.5.0,>=2.4->nbformat->notebook>=6.0->RISE) (19.3.0)\n",
      "Requirement already satisfied: importlib-resources>=1.4.0 in c:\\users\\frede\\appdata\\local\\programs\\python\\python38\\lib\\site-packages (from jsonschema!=2.5.0,>=2.4->nbformat->notebook>=6.0->RISE) (5.4.0)\n",
      "Requirement already satisfied: pyrsistent!=0.17.0,!=0.17.1,!=0.17.2,>=0.14.0 in c:\\users\\frede\\appdata\\local\\programs\\python\\python38\\lib\\site-packages (from jsonschema!=2.5.0,>=2.4->nbformat->notebook>=6.0->RISE) (0.18.1)\n",
      "Requirement already satisfied: six>=1.5 in c:\\users\\frede\\appdata\\local\\programs\\python\\python38\\lib\\site-packages (from python-dateutil>=2.1->jupyter-client>=5.3.4->notebook>=6.0->RISE) (1.14.0)\n",
      "Requirement already satisfied: cffi>=1.0.1 in c:\\users\\frede\\appdata\\local\\programs\\python\\python38\\lib\\site-packages (from argon2-cffi-bindings->argon2-cffi->notebook>=6.0->RISE) (1.15.0)\n",
      "Requirement already satisfied: soupsieve>1.2 in c:\\users\\frede\\appdata\\local\\programs\\python\\python38\\lib\\site-packages (from beautifulsoup4->nbconvert>=5->notebook>=6.0->RISE) (2.3.1)\n",
      "Requirement already satisfied: packaging in c:\\users\\frede\\appdata\\local\\programs\\python\\python38\\lib\\site-packages (from bleach->nbconvert>=5->notebook>=6.0->RISE) (20.1)\n",
      "Requirement already satisfied: webencodings in c:\\users\\frede\\appdata\\local\\programs\\python\\python38\\lib\\site-packages (from bleach->nbconvert>=5->notebook>=6.0->RISE) (0.5.1)\n",
      "Requirement already satisfied: pycparser in c:\\users\\frede\\appdata\\local\\programs\\python\\python38\\lib\\site-packages (from cffi>=1.0.1->argon2-cffi-bindings->argon2-cffi->notebook>=6.0->RISE) (2.21)\n",
      "Requirement already satisfied: zipp>=3.1.0 in c:\\users\\frede\\appdata\\local\\programs\\python\\python38\\lib\\site-packages (from importlib-resources>=1.4.0->jsonschema!=2.5.0,>=2.4->nbformat->notebook>=6.0->RISE) (3.7.0)\n",
      "Requirement already satisfied: parso<0.9.0,>=0.8.0 in c:\\users\\frede\\appdata\\local\\programs\\python\\python38\\lib\\site-packages (from jedi>=0.16->ipython>=7.23.1->ipykernel->notebook>=6.0->RISE) (0.8.3)\n",
      "Requirement already satisfied: wcwidth in c:\\users\\frede\\appdata\\local\\programs\\python\\python38\\lib\\site-packages (from prompt-toolkit!=3.0.0,!=3.0.1,<3.1.0,>=2.0.0->ipython>=7.23.1->ipykernel->notebook>=6.0->RISE) (0.1.8)\n",
      "Requirement already satisfied: pyparsing>=2.0.2 in c:\\users\\frede\\appdata\\local\\programs\\python\\python38\\lib\\site-packages (from packaging->bleach->nbconvert>=5->notebook>=6.0->RISE) (2.4.6)\n",
      "Requirement already satisfied: asttokens in c:\\users\\frede\\appdata\\local\\programs\\python\\python38\\lib\\site-packages (from stack-data->ipython>=7.23.1->ipykernel->notebook>=6.0->RISE) (2.0.5)\n",
      "Requirement already satisfied: executing in c:\\users\\frede\\appdata\\local\\programs\\python\\python38\\lib\\site-packages (from stack-data->ipython>=7.23.1->ipykernel->notebook>=6.0->RISE) (0.8.3)\n",
      "Requirement already satisfied: pure-eval in c:\\users\\frede\\appdata\\local\\programs\\python\\python38\\lib\\site-packages (from stack-data->ipython>=7.23.1->ipykernel->notebook>=6.0->RISE) (0.2.2)\n"
     ]
    },
    {
     "name": "stderr",
     "output_type": "stream",
     "text": [
      "WARNING: You are using pip version 21.3.1; however, version 22.0.4 is available.\n",
      "You should consider upgrading via the 'c:\\users\\frede\\appdata\\local\\programs\\python\\python38\\python.exe -m pip install --upgrade pip' command.\n"
     ]
    }
   ],
   "source": [
    "!pip3 install qiskit\n",
    "!pip3 install pylatexenc\n",
    "!pip3 install matplotlib\n",
    "!pip3 install RISE"
   ]
  },
  {
   "cell_type": "code",
   "execution_count": 2,
   "id": "0da6b8b3-c195-45c7-8921-def769c5c2f9",
   "metadata": {
    "slideshow": {
     "slide_type": "slide"
    }
   },
   "outputs": [
    {
     "data": {
      "image/png": "[encoded data removed]",
      "text/plain": [
       "<Figure size 478.079x204.68 with 1 Axes>"
      ]
     },
     "execution_count": 2,
     "metadata": {},
     "output_type": "execute_result"
    }
   ],
   "source": [
    "# Code for the basic bomb tester circuit\n",
    "\n",
    "from qiskit import QuantumCircuit\n",
    "\n",
    "bomb_tester = QuantumCircuit(2)\n",
    "bomb_tester.h(0)\n",
    "bomb_tester.cx(0, 1)\n",
    "bomb_tester.h(0)\n",
    "bomb_tester.measure_all()\n",
    "bomb_tester.draw(output='mpl')"
   ]
  },
  {
   "cell_type": "code",
   "execution_count": null,
   "id": "40e86522-a5d7-45be-8c36-3ffde94a130a",
   "metadata": {
    "slideshow": {
     "slide_type": "slide"
    }
   },
   "outputs": [],
   "source": []
  },
  {
   "cell_type": "code",
   "execution_count": null,
   "id": "84d70d52",
   "metadata": {
    "slideshow": {
     "slide_type": "slide"
    }
   },
   "outputs": [],
   "source": []
  },
  {
   "cell_type": "code",
   "execution_count": null,
   "id": "21148de8",
   "metadata": {
    "slideshow": {
     "slide_type": "slide"
    }
   },
   "outputs": [],
   "source": []
  },
  {
   "cell_type": "code",
   "execution_count": null,
   "id": "618c2248",
   "metadata": {
    "slideshow": {
     "slide_type": "slide"
    }
   },
   "outputs": [],
   "source": []
  }
 ],
 "metadata": {
  "celltoolbar": "Slideshow",
  "kernelspec": {
   "display_name": "Python 3 (ipykernel)",
   "language": "python",
   "name": "python3"
  },
  "language_info": {
   "codemirror_mode": {
    "name": "ipython",
    "version": 3
   },
   "file_extension": ".py",
   "mimetype": "text/x-python",
   "name": "python",
   "nbconvert_exporter": "python",
   "pygments_lexer": "ipython3",
   "version": "3.8.9"
  }
 },
 "nbformat": 4,
 "nbformat_minor": 5
}
