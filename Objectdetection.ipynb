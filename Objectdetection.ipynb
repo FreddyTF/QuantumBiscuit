{
 "cells": [
  {
   "cell_type": "markdown",
   "id": "76932863",
   "metadata": {},
   "source": [
    "# Improved Objectdetection\n",
    "\n",
    "Better Objectdetection can be achieved via the previous described mathematical adaption, which is the most efficient and effective way to improve the Objectdetection.\n",
    "\n",
    "But there is another, easier way, to run the Program on a Tower which has a higher *Quantum Volume*, altough this way enables only minor improvements.\n",
    "\n",
    "Quantum Volume, defined as: \"A metric, which measures the capabilities and error rates of a quantum computer\".\n",
    "Quantum Volume measures several feature of a quantum Computer, the number of qubits, gate and measurement errors as well as crosstalk and connectivity.\n",
    "https://en.wikipedia.org/wiki/Quantum_volume\n",
    "\n",
    "A *qubit* or quantum bit is a two-state quantum-mechanical System. \n",
    "\n",
    "\n",
    "We tested our Programm on 3 Systems with the following Quantum Volumes, 32, 16, 8.\n",
    "\n"
   ]
  },
  {
   "cell_type": "code",
   "execution_count": null,
   "id": "2846c206",
   "metadata": {},
   "outputs": [],
   "source": []
  }
 ],
 "metadata": {
  "kernelspec": {
   "display_name": "Python 3 (ipykernel)",
   "language": "python",
   "name": "python3"
  },
  "language_info": {
   "codemirror_mode": {
    "name": "ipython",
    "version": 3
   },
   "file_extension": ".py",
   "mimetype": "text/x-python",
   "name": "python",
   "nbconvert_exporter": "python",
   "pygments_lexer": "ipython3",
   "version": "3.8.12"
  }
 },
 "nbformat": 4,
 "nbformat_minor": 5
}