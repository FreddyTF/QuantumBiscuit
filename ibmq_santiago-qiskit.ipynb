{
 "cells": [
  {
   "cell_type": "code",
   "execution_count": 1,
   "id": "b3fc1509",
   "metadata": {},
   "outputs": [
    {
     "data": {
      "text/plain": [
       "<qiskit.circuit.instructionset.InstructionSet at 0x7fa590680680>"
      ]
     },
     "execution_count": 1,
     "metadata": {},
     "output_type": "execute_result"
    }
   ],
   "source": [
    "from qiskit import QuantumRegister, ClassicalRegister, QuantumCircuit\n",
    "from numpy import pi\n",
    "\n",
    "qreg_q = QuantumRegister(5, 'q')\n",
    "creg_c = ClassicalRegister(6, 'c')\n",
    "circuit = QuantumCircuit(qreg_q, creg_c)\n",
    "\n",
    "circuit.rz(1.5707963267948966, qreg_q[0])\n",
    "circuit.sx(qreg_q[0])\n",
    "circuit.rz(3.665191429188092, qreg_q[0])\n",
    "circuit.sx(qreg_q[0])\n",
    "circuit.rz(7.853981633974483, qreg_q[0])\n",
    "circuit.cx(qreg_q[0], qreg_q[1])\n",
    "circuit.rz(1.5707963267948966, qreg_q[0])\n",
    "circuit.sx(qreg_q[0])\n",
    "circuit.rz(3.665191429188092, qreg_q[0])\n",
    "circuit.sx(qreg_q[0])\n",
    "circuit.rz(7.853981633974483, qreg_q[0])\n",
    "circuit.measure(qreg_q[1], creg_c[0])\n",
    "circuit.reset(qreg_q[1])\n",
    "circuit.cx(qreg_q[0], qreg_q[1])\n",
    "circuit.rz(1.5707963267948966, qreg_q[0])\n",
    "circuit.sx(qreg_q[0])\n",
    "circuit.rz(3.665191429188092, qreg_q[0])\n",
    "circuit.sx(qreg_q[0])\n",
    "circuit.rz(7.853981633974483, qreg_q[0])\n",
    "circuit.measure(qreg_q[1], creg_c[1])\n",
    "circuit.reset(qreg_q[1])\n",
    "circuit.cx(qreg_q[0], qreg_q[1])\n",
    "circuit.rz(1.5707963267948966, qreg_q[0])\n",
    "circuit.sx(qreg_q[0])\n",
    "circuit.rz(3.665191429188092, qreg_q[0])\n",
    "circuit.sx(qreg_q[0])\n",
    "circuit.rz(7.853981633974483, qreg_q[0])\n",
    "circuit.measure(qreg_q[1], creg_c[2])\n",
    "circuit.reset(qreg_q[1])\n",
    "circuit.cx(qreg_q[0], qreg_q[1])\n",
    "circuit.rz(1.5707963267948966, qreg_q[0])\n",
    "circuit.sx(qreg_q[0])\n",
    "circuit.rz(3.665191429188092, qreg_q[0])\n",
    "circuit.sx(qreg_q[0])\n",
    "circuit.rz(7.853981633974483, qreg_q[0])\n",
    "circuit.measure(qreg_q[1], creg_c[3])\n",
    "circuit.reset(qreg_q[1])\n",
    "circuit.cx(qreg_q[0], qreg_q[1])\n",
    "circuit.rz(1.5707963267948966, qreg_q[0])\n",
    "circuit.sx(qreg_q[0])\n",
    "circuit.rz(3.665191429188092, qreg_q[0])\n",
    "circuit.sx(qreg_q[0])\n",
    "circuit.rz(7.853981633974483, qreg_q[0])\n",
    "circuit.measure(qreg_q[1], creg_c[4])\n",
    "circuit.reset(qreg_q[1])\n",
    "circuit.measure(qreg_q[0], creg_c[5])"
   ]
  },
  {
   "cell_type": "code",
   "execution_count": null,
   "id": "aaeebbb2",
   "metadata": {},
   "outputs": [],
   "source": []
  },
  {
   "cell_type": "code",
   "execution_count": null,
   "id": "42fbacc5",
   "metadata": {},
   "outputs": [],
   "source": []
  }
 ],
 "metadata": {
  "kernelspec": {
   "display_name": "Python 3 (ipykernel)",
   "language": "python",
   "name": "python3"
  },
  "language_info": {
   "codemirror_mode": {
    "name": "ipython",
    "version": 3
   },
   "file_extension": ".py",
   "mimetype": "text/x-python",
   "name": "python",
   "nbconvert_exporter": "python",
   "pygments_lexer": "ipython3",
   "version": "3.8.12"
  }
 },
 "nbformat": 4,
 "nbformat_minor": 5
}
